{
  "nbformat": 4,
  "nbformat_minor": 0,
  "metadata": {
    "colab": {
      "name": "Untitled0.ipynb",
      "provenance": []
    },
    "kernelspec": {
      "name": "python3",
      "display_name": "Python 3"
    },
    "language_info": {
      "name": "python"
    }
  },
  "cells": [
    {
      "cell_type": "code",
      "metadata": {
        "id": "cpODrkWFDsgs",
        "colab": {
          "base_uri": "https://localhost:8080/"
        },
        "outputId": "c1fe7f79-44a4-4fc4-e57d-f55e2e8c864a"
      },
      "source": [
        "from google.colab import drive\n",
        "drive.mount('/content/drive')"
      ],
      "execution_count": 1,
      "outputs": [
        {
          "output_type": "stream",
          "name": "stdout",
          "text": [
            "Drive already mounted at /content/drive; to attempt to forcibly remount, call drive.mount(\"/content/drive\", force_remount=True).\n"
          ]
        }
      ]
    },
    {
      "cell_type": "code",
      "metadata": {
        "colab": {
          "base_uri": "https://localhost:8080/",
          "height": 282
        },
        "id": "EdPSqePhLtOa",
        "outputId": "8ac5de9a-0373-4714-ce55-d5d9880f463c"
      },
      "source": [
        "plt.plot([i for i in range(256)],a)"
      ],
      "execution_count": 16,
      "outputs": [
        {
          "output_type": "execute_result",
          "data": {
            "text/plain": [
              "[<matplotlib.lines.Line2D at 0x7f3797717a90>]"
            ]
          },
          "metadata": {},
          "execution_count": 16
        },
        {
          "output_type": "display_data",
          "data": {
            "image/png": "[encoded data removed]",
            "text/plain": [
              "<Figure size 432x288 with 1 Axes>"
            ]
          },
          "metadata": {
            "needs_background": "light"
          }
        }
      ]
    },
    {
      "cell_type": "code",
      "metadata": {
        "id": "q2KsYLRKL_F6"
      },
      "source": [
        "a=a/max(a)"
      ],
      "execution_count": 15,
      "outputs": []
    },
    {
      "cell_type": "code",
      "metadata": {
        "id": "UsLF9IOyz1By"
      },
      "source": [
        "#import struct\n",
        "import math\n",
        "\n",
        "class BFAnalyzer:\n",
        "    def __init__(self):\n",
        "        self.__frequency = [float(0)]*256\n",
        "\n",
        "    def compute(self, filepath):\n",
        "        textfile=open(filepath)\n",
        "        text=textfile.read()\n",
        "        for i in range(256):\n",
        "            self.__frequency[i]=text.count(chr(i))\n",
        "\n",
        "    def smoothen(self):\n",
        "        return (\n",
        "        self\n",
        "        .normalize()\n",
        "        .compand()\n",
        "        .frequency()\n",
        "        )\n",
        "\n",
        "    def normalize(self):\n",
        "        norm = max(self.__frequency)\n",
        "        self.__frequency =  map(lambda x: x / norm, self.__frequency)\n",
        "        return self\n",
        "    def compand(self):\n",
        "        B = 1.5\n",
        "        self.__frequency =  list(map(lambda x: x ** ( 1 / B), self.__frequency))\n",
        "        return self\n",
        "\n",
        "    def frequency(self):\n",
        "        return self.__frequency\n",
        "\n",
        "    def __str__(self):\n",
        "        return \",\".join(map(str, self.__frequency))"
      ],
      "execution_count": 44,
      "outputs": []
    },
    {
      "cell_type": "code",
      "metadata": {
        "colab": {
          "base_uri": "https://localhost:8080/"
        },
        "id": "1oCO5DGNTnfi",
        "outputId": "8efe0255-433e-4bf3-a1e4-4c097de0a09a"
      },
      "source": [
        "a=BFAnalyzer()\n",
        "a.compute('/content/drive/MyDrive/blueOptima/worksample_data/rexx/4.rexx')\n",
        "f1=np.array(list(a.frequency()))\n",
        "a.compand()\n",
        "f2=np.array(list(a.frequency()))\n",
        "a.normalize()"
      ],
      "execution_count": 79,
      "outputs": [
        {
          "output_type": "execute_result",
          "data": {
            "text/plain": [
              "<__main__.BFAnalyzer at 0x7f3792762510>"
            ]
          },
          "metadata": {},
          "execution_count": 79
        }
      ]
    },
    {
      "cell_type": "code",
      "metadata": {
        "colab": {
          "base_uri": "https://localhost:8080/",
          "height": 282
        },
        "id": "DWT54OepTo7p",
        "outputId": "9ab7faa4-c0b2-4e9a-8937-245af61187c9"
      },
      "source": [
        "plt.plot([i for i in range(256)],f1)"
      ],
      "execution_count": 80,
      "outputs": [
        {
          "output_type": "execute_result",
          "data": {
            "text/plain": [
              "[<matplotlib.lines.Line2D at 0x7f3792bffc90>]"
            ]
          },
          "metadata": {},
          "execution_count": 80
        },
        {
          "output_type": "display_data",
          "data": {
            "image/png": "[encoded data removed]",
            "text/plain": [
              "<Figure size 432x288 with 1 Axes>"
            ]
          },
          "metadata": {
            "needs_background": "light"
          }
        }
      ]
    },
    {
      "cell_type": "code",
      "metadata": {
        "colab": {
          "base_uri": "https://localhost:8080/",
          "height": 283
        },
        "id": "jz_gMblFWPIZ",
        "outputId": "82a375f4-3dcd-44be-d2e2-752263dfd09a"
      },
      "source": [
        "plt.plot([i for i in range(256)],f2)"
      ],
      "execution_count": 81,
      "outputs": [
        {
          "output_type": "execute_result",
          "data": {
            "text/plain": [
              "[<matplotlib.lines.Line2D at 0x7f379288ac10>]"
            ]
          },
          "metadata": {},
          "execution_count": 81
        },
        {
          "output_type": "display_data",
          "data": {
            "image/png": "[encoded data removed]",
            "text/plain": [
              "<Figure size 432x288 with 1 Axes>"
            ]
          },
          "metadata": {
            "needs_background": "light"
          }
        }
      ]
    },
    {
      "cell_type": "code",
      "metadata": {
        "id": "sEuKD_FeWgNd"
      },
      "source": [
        ""
      ],
      "execution_count": null,
      "outputs": []
    }
  ]
}